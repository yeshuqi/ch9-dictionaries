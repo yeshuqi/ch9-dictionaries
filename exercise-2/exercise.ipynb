{
 "cells": [
  {
   "cell_type": "markdown",
   "metadata": {},
   "source": [
    "# Exercise 2\n",
    "Add the specified code for each code cell, running the cells _in order_."
   ]
  },
  {
   "cell_type": "markdown",
   "metadata": {},
   "source": [
    "Open the included **`data/words_small.txt`** file (containing a \"small\" list of English words) and `read()` it into a single string variable **`words_str`**. Then print the first 100 _characters_ of the `words_str` variable (use a slice operator!)"
   ]
  },
  {
   "cell_type": "code",
   "execution_count": 1,
   "metadata": {},
   "outputs": [
    {
     "name": "stdout",
     "output_type": "stream",
     "text": [
      "abbreviate\n",
      "abbreviation\n",
      "abdomen\n",
      "able\n",
      "aboard\n",
      "abroad\n",
      "absent\n",
      "absolute\n",
      "abuse\n",
      "academic\n",
      "academy\n",
      "accelerate\n"
     ]
    }
   ],
   "source": [
    "with open(\"data/words_small.txt\") as file:\n",
    "    words_str = file.read()\n",
    "print(words_str[:100])"
   ]
  },
  {
   "cell_type": "markdown",
   "metadata": {},
   "source": [
    "**Using a loop**, count the number of times the newline character `\\n` appears in the `words_str`. This should tell you the number of words in the file (plus or minus one). You can check your work with the built-in `count()` string method (but use the loop for practice!)"
   ]
  },
  {
   "cell_type": "code",
   "execution_count": 2,
   "metadata": {},
   "outputs": [
    {
     "name": "stdout",
     "output_type": "stream",
     "text": [
      "1520\n",
      "1520\n"
     ]
    }
   ],
   "source": [
    "i = 0\n",
    "for character in words_str:\n",
    "    if character == \"\\n\":\n",
    "        i += 1\n",
    "print(i)\n",
    "print(words_str.count(\"\\n\"))"
   ]
  },
  {
   "cell_type": "markdown",
   "metadata": {},
   "source": [
    "Create a variable **`letter_counts`** that is a dictionary whose keys are characters (letters) and whose values are the number of times that character appears in `words_str`. Print the dictionary after you make it.\n",
    "- To do this, start with an empty dictionary, then loop through the letters one at a time. At each letter, increase the value associated with that letter key by one.\n",
    "- Watch out for if the letter is not in the dictionary yet!\n",
    "- Also _delete_ the entry for the newline `\\n` character"
   ]
  },
  {
   "cell_type": "code",
   "execution_count": 3,
   "metadata": {},
   "outputs": [
    {
     "data": {
      "text/plain": [
       "{'a': 703,\n",
       " 'b': 188,\n",
       " 'r': 642,\n",
       " 'e': 1118,\n",
       " 'v': 85,\n",
       " 'i': 515,\n",
       " 't': 604,\n",
       " 'o': 598,\n",
       " 'n': 550,\n",
       " 'd': 314,\n",
       " 'm': 223,\n",
       " 'l': 457,\n",
       " 's': 504,\n",
       " 'u': 279,\n",
       " 'c': 328,\n",
       " 'y': 189,\n",
       " 'p': 224,\n",
       " 'h': 295,\n",
       " 'f': 155,\n",
       " 'w': 161,\n",
       " 'g': 213,\n",
       " 'k': 126,\n",
       " 'z': 15,\n",
       " 'x': 23,\n",
       " 'j': 16,\n",
       " 'q': 9}"
      ]
     },
     "execution_count": 3,
     "metadata": {},
     "output_type": "execute_result"
    }
   ],
   "source": [
    "letter_counts = {}\n",
    "for character in words_str:\n",
    "    #get the previous count\n",
    "    pre_count = letter_counts.get(character, 0)\n",
    "    #increment the previous count\n",
    "    letter_counts[character] = pre_count + 1\n",
    "    #remove \"\\n\"\n",
    "letter_counts.pop(\"\\n\")\n",
    "letter_counts"
   ]
  },
  {
   "cell_type": "markdown",
   "metadata": {},
   "source": [
    "Print out all the count in the `letter_counts` dictionary in the format `\"A appears 703 times\"`, each on a new line, in alphabetical order. _Hint_: iterate through the sorted keys!"
   ]
  },
  {
   "cell_type": "code",
   "execution_count": 22,
   "metadata": {},
   "outputs": [
    {
     "name": "stdout",
     "output_type": "stream",
     "text": [
      "['a', 'b', 'c', 'd', 'e', 'f', 'g', 'h', 'i', 'j', 'k', 'l', 'm', 'n', 'o', 'p', 'q', 'r', 's', 't', 'u', 'v', 'w', 'x', 'y', 'z']\n",
      "A appears  703  times\n",
      "B appears  188  times\n",
      "C appears  328  times\n",
      "D appears  314  times\n",
      "E appears  1118  times\n",
      "F appears  155  times\n",
      "G appears  213  times\n",
      "H appears  295  times\n",
      "I appears  515  times\n",
      "J appears  16  times\n",
      "K appears  126  times\n",
      "L appears  457  times\n",
      "M appears  223  times\n",
      "N appears  550  times\n",
      "O appears  598  times\n",
      "P appears  224  times\n",
      "Q appears  9  times\n",
      "R appears  642  times\n",
      "S appears  504  times\n",
      "T appears  604  times\n",
      "U appears  279  times\n",
      "V appears  85  times\n",
      "W appears  161  times\n",
      "X appears  23  times\n",
      "Y appears  189  times\n",
      "Z appears  15  times\n"
     ]
    }
   ],
   "source": [
    "\n",
    "for key in sorted(letter_counts):\n",
    "    print(key.upper(), \"appears \", letter_counts[key], \" times\")"
   ]
  },
  {
   "cell_type": "markdown",
   "metadata": {},
   "source": [
    "Print which letter from the `letter_counts` dictionary has a **value** of `515`. _Hint:_ use a loop to look through all the _items_ until you find the right one, then print that!"
   ]
  },
  {
   "cell_type": "code",
   "execution_count": 9,
   "metadata": {},
   "outputs": [
    {
     "name": "stdout",
     "output_type": "stream",
     "text": [
      "i\n"
     ]
    }
   ],
   "source": [
    "for key, value in letter_counts.items():\n",
    "    if value == 515:\n",
    "        print(key)"
   ]
  },
  {
   "cell_type": "markdown",
   "metadata": {},
   "source": [
    "Create a variable **`count_to_letter_dict`** that is a dictionary whose **keys** are the counts and whose **values** are the letters that have that count. This is a _reverse lookup_ dictionary. Hint: ceate a new dictionary, then loop through items in `letter_counts` and add an item to your new dictionary for each element. You can assume no duplicated counts."
   ]
  },
  {
   "cell_type": "code",
   "execution_count": 15,
   "metadata": {},
   "outputs": [
    {
     "name": "stdout",
     "output_type": "stream",
     "text": [
      "{703: 'a', 188: 'b', 642: 'r', 1118: 'e', 85: 'v', 515: 'i', 604: 't', 598: 'o', 550: 'n', 314: 'd', 223: 'm', 457: 'l', 504: 's', 279: 'u', 328: 'c', 189: 'y', 224: 'p', 295: 'h', 155: 'f', 161: 'w', 213: 'g', 126: 'k', 15: 'z', 23: 'x', 16: 'j', 9: 'q'}\n"
     ]
    }
   ],
   "source": [
    "count_to_letter_dict = {}\n",
    "for key, value in letter_counts.items():\n",
    "    count_to_letter_dict[value]= key\n",
    "print(count_to_letter_dict)"
   ]
  },
  {
   "cell_type": "markdown",
   "metadata": {},
   "source": [
    "Print the **10** most common letters and their counts with the format `\"A appears 703 times\"`. _Hint:_ you'll need to sort the keys to `count_to_letter_dict` and take the first 10 of those."
   ]
  },
  {
   "cell_type": "code",
   "execution_count": 29,
   "metadata": {},
   "outputs": [
    {
     "name": "stdout",
     "output_type": "stream",
     "text": [
      "E appears  1118  times.\n",
      "A appears  703  times.\n",
      "R appears  642  times.\n",
      "T appears  604  times.\n",
      "O appears  598  times.\n",
      "N appears  550  times.\n",
      "I appears  515  times.\n",
      "S appears  504  times.\n",
      "L appears  457  times.\n",
      "C appears  328  times.\n"
     ]
    }
   ],
   "source": [
    "i = 0\n",
    "for key in sorted(count_to_letter_dict, reverse=True):\n",
    "    i += 1\n",
    "    print(count_to_letter_dict[key].upper(), \"appears \", key, \" times.\")\n",
    "    if i ==10:\n",
    "        break\n",
    "   "
   ]
  },
  {
   "cell_type": "markdown",
   "metadata": {},
   "source": [
    "Bonus: repeat your analysis on the `data/words_huge.txt` file! Are the top letters the same?"
   ]
  }
 ],
 "metadata": {
  "kernelspec": {
   "display_name": "Python 3",
   "language": "python",
   "name": "python3"
  },
  "language_info": {
   "codemirror_mode": {
    "name": "ipython",
    "version": 3
   },
   "file_extension": ".py",
   "mimetype": "text/x-python",
   "name": "python",
   "nbconvert_exporter": "python",
   "pygments_lexer": "ipython3",
   "version": "3.7.1"
  },
  "toc": {
   "colors": {
    "hover_highlight": "#DAA520",
    "running_highlight": "#FF0000",
    "selected_highlight": "#FFD700"
   },
   "moveMenuLeft": true,
   "nav_menu": {
    "height": "30px",
    "width": "252px"
   },
   "navigate_menu": true,
   "number_sections": true,
   "sideBar": true,
   "threshold": 4,
   "toc_cell": false,
   "toc_section_display": "block",
   "toc_window_display": false,
   "widenNotebook": false
  }
 },
 "nbformat": 4,
 "nbformat_minor": 2
}
