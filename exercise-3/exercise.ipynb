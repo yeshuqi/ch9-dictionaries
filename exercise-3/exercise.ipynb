{
 "cells": [
  {
   "cell_type": "markdown",
   "metadata": {},
   "source": [
    "# Exercise 3\n",
    "Add the specified code for each code cell, running the cells _in order_."
   ]
  },
  {
   "cell_type": "markdown",
   "metadata": {},
   "source": [
    "Define a function **`create_game_dict()`** that takes in 4 arguments: the name of the home team in a sports game, the name of the visiting team, the home team's score, and the visiting team's score. The function should return a dictionary with keys for each of these values, for example:\n",
    "```\n",
    "{'home':'UW', 'opp': 'Rutgers', 'home_score': 48, 'opp_score': 13}\n",
    "```"
   ]
  },
  {
   "cell_type": "code",
   "execution_count": 10,
   "metadata": {},
   "outputs": [
    {
     "name": "stdout",
     "output_type": "stream",
     "text": [
      "{'home': 'UW', 'opp': 'Rutgers', 'home_score': 48, 'opp_score': 13}\n"
     ]
    }
   ],
   "source": [
    "def create_game_dict(home_name, visiting_name, home_score, visiting_score):\n",
    "    dictionary = {'home': home_name, 'opp': visiting_name, 'home_score': home_score, 'opp_score': visiting_score}\n",
    "    return dictionary\n",
    "print(create_game_dict(\"UW\", \"Rutgers\", 48, 13))"
   ]
  },
  {
   "cell_type": "markdown",
   "metadata": {},
   "source": [
    "Use your function to create dictionaries representing the following games (visiting team name and score listed first):\n",
    "- Rutgers @ UW - 13 to 48\n",
    "- Idaho @ UW - 14 to 59\n",
    "- Portland State @ UW - 3 to 41\n",
    "- UW @ Arizona - 35 to 28"
   ]
  },
  {
   "cell_type": "code",
   "execution_count": 17,
   "metadata": {},
   "outputs": [],
   "source": [
    "sample_1 = create_game_dict(\"Rutgers\", \"UW\", 13, 48)\n",
    "sample_2 = create_game_dict(\"Idaho\", \"UW\",14, 59)\n",
    "sample_3 = create_game_dict(\"Portland State\", \"UW\", 3, 41)\n",
    "sample_4 = create_game_dict(\"UW\", \"Arizona\", 35, 28)"
   ]
  },
  {
   "cell_type": "markdown",
   "metadata": {},
   "source": [
    "Create a variable **`season2016`** that is a _list_ containing the 4 game dictionaries. Output the list after you create it."
   ]
  },
  {
   "cell_type": "code",
   "execution_count": 18,
   "metadata": {},
   "outputs": [
    {
     "data": {
      "text/plain": [
       "[{'home': 'Rutgers', 'opp': 'UW', 'home_score': 48, 'opp_score': 13},\n",
       " {'home': 'Idaho', 'opp': 'UW', 'home_score': 14, 'opp_score': 59},\n",
       " {'home': 'Portland State', 'opp': 'UW', 'home_score': 3, 'opp_score': 41},\n",
       " {'home': 'UW', 'opp': 'Arizona', 'home_score': 35, 'opp_score': 28}]"
      ]
     },
     "execution_count": 18,
     "metadata": {},
     "output_type": "execute_result"
    }
   ],
   "source": [
    "season2016 = [sample_1, sample_2, sample_3, sample_4]\n",
    "season2016"
   ]
  },
  {
   "cell_type": "markdown",
   "metadata": {},
   "source": [
    "Print the visiting opponent of the 3rd game played in this 2016 season."
   ]
  },
  {
   "cell_type": "code",
   "execution_count": 19,
   "metadata": {},
   "outputs": [
    {
     "data": {
      "text/plain": [
       "'UW'"
      ]
     },
     "execution_count": 19,
     "metadata": {},
     "output_type": "execute_result"
    }
   ],
   "source": [
    "season2016[2]['opp']"
   ]
  },
  {
   "cell_type": "markdown",
   "metadata": {},
   "source": [
    "Print out the list of games, each on their own line, in a format `\"HOME vs. OPPONENT\"`."
   ]
  },
  {
   "cell_type": "code",
   "execution_count": 20,
   "metadata": {},
   "outputs": [
    {
     "name": "stdout",
     "output_type": "stream",
     "text": [
      "Rutgers vs. UW\n",
      "Idaho vs. UW\n",
      "Portland State vs. UW\n",
      "UW vs. Arizona\n"
     ]
    }
   ],
   "source": [
    "for dict in season2016:\n",
    "    print(dict['home'], \"vs.\", dict['opp'])"
   ]
  },
  {
   "cell_type": "markdown",
   "metadata": {},
   "source": [
    "Create a variable **`home_won_count`** that is the number of games won by the home team in this piece of the 2016 season. Print out the variable."
   ]
  },
  {
   "cell_type": "code",
   "execution_count": 21,
   "metadata": {},
   "outputs": [
    {
     "name": "stdout",
     "output_type": "stream",
     "text": [
      "2\n"
     ]
    }
   ],
   "source": [
    "count = 0\n",
    "for dict in season2016:\n",
    "    if dict['home_score'] > dict['opp_score']:\n",
    "        count  += 1\n",
    "print(count)"
   ]
  },
  {
   "cell_type": "markdown",
   "metadata": {},
   "source": [
    "Create a variable **`home_point_spread`** which is the _average_ number of points that the home team won by (for games that they won). Print out the variable."
   ]
  },
  {
   "cell_type": "code",
   "execution_count": 25,
   "metadata": {},
   "outputs": [
    {
     "name": "stdout",
     "output_type": "stream",
     "text": [
      "21.0\n"
     ]
    }
   ],
   "source": [
    "home_point_over = 0\n",
    "count = 0\n",
    "for dict in season2016:\n",
    "    if dict['home_score'] > dict['opp_score']:\n",
    "        count += 1\n",
    "        home_point_over = home_point_over + (dict['home_score'] - dict['opp_score'])\n",
    "        home_point_spread = home_point_over/count\n",
    "print(home_point_spread)\n",
    "        \n"
   ]
  },
  {
   "cell_type": "markdown",
   "metadata": {},
   "source": [
    "_Bonus_: read in the **`data/huskies_2016.csv`** file and create a new `season2016` variable from that data (each game is written on a new line&mdash;the first line is the header). Then rerun the above calculations for the entire season.\n",
    "\n",
    "- You'll need to skip the \"header\" line, and remember to convert scores into integers.\n",
    "\n",
    "Optionally, you can use the [csv](https://docs.python.org/3/library/csv.html) module to easily read each line (row) of the file as a _list_ of values, passing the appropriate ones into your `create_game_dict()` function."
   ]
  },
  {
   "cell_type": "code",
   "execution_count": null,
   "metadata": {},
   "outputs": [],
   "source": []
  }
 ],
 "metadata": {
  "kernelspec": {
   "display_name": "Python 3",
   "language": "python",
   "name": "python3"
  },
  "language_info": {
   "codemirror_mode": {
    "name": "ipython",
    "version": 3
   },
   "file_extension": ".py",
   "mimetype": "text/x-python",
   "name": "python",
   "nbconvert_exporter": "python",
   "pygments_lexer": "ipython3",
   "version": "3.7.1"
  },
  "toc": {
   "colors": {
    "hover_highlight": "#DAA520",
    "running_highlight": "#FF0000",
    "selected_highlight": "#FFD700"
   },
   "moveMenuLeft": true,
   "nav_menu": {
    "height": "30px",
    "width": "252px"
   },
   "navigate_menu": true,
   "number_sections": true,
   "sideBar": true,
   "threshold": 4,
   "toc_cell": false,
   "toc_section_display": "block",
   "toc_window_display": false,
   "widenNotebook": false
  }
 },
 "nbformat": 4,
 "nbformat_minor": 2
}
